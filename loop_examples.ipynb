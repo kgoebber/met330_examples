{
 "cells": [
  {
   "cell_type": "markdown",
   "metadata": {},
   "source": [
    "#Looping Examples in Python\n",
    "This notebook serves as an introduction to both the ipython notebook, as well as the looping capabilities within the Python programming language.\n",
    "\n",
    "To run a cell, either hit the play button while that cell is bounded by a green box, or hold the shift key and hit enter while on that particular cell.\n",
    "\n",
    "By: Kevin Goebbert\n",
    "Date: 25 September 2015"
   ]
  },
  {
   "cell_type": "markdown",
   "metadata": {},
   "source": [
    "## Let's begin with a simple looping function, which is a for loop in Python\n",
    "\n",
    "The structure of the loop is:\n",
    "\n",
    "for **_variable name_** in **[_list_]**: <br>\n",
    "&nbsp;&nbsp;&nbsp;&nbsp; **_statement(s) to loop over_**\n",
    "\n",
    "There is no endfor statement. Python knowns where the end is by the unindention of a line. <br>\n",
    "NOTE: Python is a indented language, so everything within the loop must be indented the same amount."
   ]
  },
  {
   "cell_type": "code",
   "execution_count": 1,
   "metadata": {
    "collapsed": false
   },
   "outputs": [
    {
     "name": "stdout",
     "output_type": "stream",
     "text": [
      "In Loop 0\n",
      "In Loop 1\n",
      "In Loop 2\n",
      "In Loop 3\n",
      "In Loop 4\n",
      "In Loop 5\n",
      "In Loop 6\n",
      "In Loop 7\n",
      "In Loop 8\n",
      "In Loop 9\n",
      "Out of loop!\n"
     ]
    }
   ],
   "source": [
    "for i in range(10):\n",
    "    print(\"In Loop \"+str(i))\n",
    "\n",
    "print(\"Out of loop!\")"
   ]
  },
  {
   "cell_type": "markdown",
   "metadata": {},
   "source": [
    "But what is this list and how is range(10) a list?"
   ]
  },
  {
   "cell_type": "code",
   "execution_count": 2,
   "metadata": {
    "collapsed": false
   },
   "outputs": [
    {
     "name": "stdout",
     "output_type": "stream",
     "text": [
      "But what is range(10)?\n",
      "range(0, 10)\n",
      "It's a simple list (array) of 10 values beginning with the standard base of zero.\n",
      "\n"
     ]
    }
   ],
   "source": [
    "print(\"But what is range(10)?\")\n",
    "print(range(10))\n",
    "print(\"It's a simple list (array) of 10 values beginning with the standard base of zero.\\n\")"
   ]
  },
  {
   "cell_type": "markdown",
   "metadata": {},
   "source": [
    "A simple list in Python works just like a single dimensional array!\n",
    "\n",
    "For example, lets set range(10) equal to a variable and see how we can call elements of the list."
   ]
  },
  {
   "cell_type": "code",
   "execution_count": 3,
   "metadata": {
    "collapsed": false
   },
   "outputs": [
    {
     "name": "stdout",
     "output_type": "stream",
     "text": [
      "range(0, 10)\n",
      "0\n",
      "5\n"
     ]
    }
   ],
   "source": [
    "x = range(10)\n",
    "print(x)\n",
    "print(x[0])\n",
    "print(x[5])"
   ]
  },
  {
   "cell_type": "markdown",
   "metadata": {},
   "source": [
    "## Now let's specify how we loop with range\n",
    "Run the cell below, then change the values over which you are looping. For example, start with -5 and go to 5."
   ]
  },
  {
   "cell_type": "code",
   "execution_count": 4,
   "metadata": {
    "collapsed": false
   },
   "outputs": [
    {
     "name": "stdout",
     "output_type": "stream",
     "text": [
      "0\n",
      "1\n",
      "2\n",
      "3\n",
      "4\n",
      "5\n",
      "6\n",
      "7\n",
      "8\n",
      "9\n",
      "Note: The final number in the range that was specified was NOT used. There is no 10 in the output.\n",
      "\n"
     ]
    }
   ],
   "source": [
    "for i in range(0,10):\n",
    "    print(i)\n",
    "print(\"Note: The final number in the range that was specified was NOT used. There is no 10 in the output.\\n\")"
   ]
  },
  {
   "cell_type": "markdown",
   "metadata": {},
   "source": [
    "The way that python works when you are specifying some sort of range, whether within the range function itself or within an array, it is **inclusive** of the first element and **exclusive** of the last.\n",
    "\n",
    "So what does that mean?\n",
    "\n",
    "(10,20) -> 10, 11, 12, 13, 14, 15, 16, 17, 18, 19 --> in math that would be written as [10,20)"
   ]
  },
  {
   "cell_type": "markdown",
   "metadata": {},
   "source": [
    "##Looping over specified list\n",
    "We can set out own list, as in the example below with the variable temp."
   ]
  },
  {
   "cell_type": "code",
   "execution_count": 5,
   "metadata": {
    "collapsed": false
   },
   "outputs": [
    {
     "name": "stdout",
     "output_type": "stream",
     "text": [
      "7\n",
      "6\n",
      "5\n",
      "4\n",
      "3\n",
      "2\n",
      "1\n"
     ]
    }
   ],
   "source": [
    "temp = [7,6,5,4,3,2,1]\n",
    "for j in temp:\n",
    "    print(j)"
   ]
  },
  {
   "cell_type": "markdown",
   "metadata": {},
   "source": [
    "However, we are not relegated to using numbers for our looping!"
   ]
  },
  {
   "cell_type": "code",
   "execution_count": 6,
   "metadata": {
    "collapsed": false
   },
   "outputs": [
    {
     "name": "stdout",
     "output_type": "stream",
     "text": [
      "Kevin\n",
      "Matt\n",
      "Austin\n",
      "Charlie Brown\n"
     ]
    }
   ],
   "source": [
    "names = ['Kevin','Matt','Austin','Charlie Brown']\n",
    "for item in names:\n",
    "    print(item)"
   ]
  },
  {
   "cell_type": "code",
   "execution_count": 7,
   "metadata": {
    "collapsed": false
   },
   "outputs": [
    {
     "name": "stdout",
     "output_type": "stream",
     "text": [
      "K\n",
      "e\n",
      "v\n",
      "i\n",
      "n\n"
     ]
    }
   ],
   "source": [
    "name = 'Kevin'\n",
    "for letters in name:\n",
    "    print(letters)"
   ]
  },
  {
   "cell_type": "markdown",
   "metadata": {},
   "source": [
    "##While Loops\n",
    "We also have the option of a while loop in Python, which is very similar to the Fortran version. The loop will continue until the logic statement is false."
   ]
  },
  {
   "cell_type": "code",
   "execution_count": 8,
   "metadata": {
    "collapsed": false
   },
   "outputs": [
    {
     "name": "stdout",
     "output_type": "stream",
     "text": [
      "0\n",
      "1\n",
      "2\n",
      "3\n",
      "4\n",
      "5\n",
      "6\n",
      "7\n",
      "8\n",
      "9\n",
      "10\n",
      "I am out of the loop because m is now 11\n"
     ]
    }
   ],
   "source": [
    "# We initialize m to be zero and that means that m is an integer in this case.\n",
    "m = 0\n",
    "while (m <= 10):\n",
    "    print(m)\n",
    "    m = m + 1\n",
    "print(\"I am out of the loop because m is now \"+str(m))\n"
   ]
  },
  {
   "cell_type": "code",
   "execution_count": null,
   "metadata": {
    "collapsed": true
   },
   "outputs": [],
   "source": []
  }
 ],
 "metadata": {
  "anaconda-cloud": {},
  "kernelspec": {
   "display_name": "Python [conda root]",
   "language": "python",
   "name": "conda-root-py"
  },
  "language_info": {
   "codemirror_mode": {
    "name": "ipython",
    "version": 3
   },
   "file_extension": ".py",
   "mimetype": "text/x-python",
   "name": "python",
   "nbconvert_exporter": "python",
   "pygments_lexer": "ipython3",
   "version": "3.5.0rc4"
  }
 },
 "nbformat": 4,
 "nbformat_minor": 0
}
